{
 "cells": [
  {
   "cell_type": "code",
   "execution_count": 5,
   "metadata": {},
   "outputs": [],
   "source": [
    "from sktime.forecasting.tbats import TBATS\n",
    "from sktime.forecasting.model_selection import temporal_train_test_split\n",
    "from sktime.performance_metrics.forecasting import mean_absolute_percentage_error\n",
    "import pandas as pd\n",
    "import numpy as np\n",
    "import matplotlib.pyplot as plt\n",
    "import os\n",
    "import math"
   ]
  },
  {
   "cell_type": "code",
   "execution_count": 6,
   "metadata": {},
   "outputs": [],
   "source": [
    "\n",
    "def remove_repetitions(df: pd.DataFrame) -> pd.DataFrame:\n",
    "    \"\"\"\n",
    "    Entfernt wiederholte Werte in einem DataFrame, wenn sich jeder Wert 4-mal wiederholt.\n",
    "    Beibehaltung nur jeder vierten Zeile.\n",
    "    \"\"\"\n",
    "    return df.iloc[::4].reset_index(drop=True)"
   ]
  },
  {
   "cell_type": "code",
   "execution_count": 7,
   "metadata": {},
   "outputs": [],
   "source": [
    "da_prices2022 = remove_repetitions(pd.read_excel('./data/da_prices2022.xlsx', sheet_name='Sheet1'))\n",
    "da_prices2023 = remove_repetitions(pd.read_excel('./data/da_prices2023.xlsx', sheet_name='Sheet1'))\n",
    "da_prices2024 = remove_repetitions(pd.read_excel('./data/da_prices2024.xlsx', sheet_name='Sheet1'))"
   ]
  },
  {
   "cell_type": "code",
   "execution_count": null,
   "metadata": {},
   "outputs": [],
   "source": [
    "def generateLine(dataSet, wMeanDay, wMeanWeek, wMeanMonth, meanFactor, fitFactor):\n",
    "\tmonthLength = math.floor(dataSet.shape[0] / 12)\n",
    "\tweekLength = math.floor(dataSet.shape[0]  / 52)\n",
    "\tdayLength = math.floor(dataSet.shape[0]  / 365)\n",
    "\n",
    "\n",
    "\tloopStartPoint = monthLength\n",
    "\tloopEndPoint = dataSet.shape[0]\n",
    "\n",
    "\tforecast = []\n",
    "\n",
    "\tfor h in range(loopStartPoint, loopEndPoint):\n",
    "\t\tcurrentHour = dataSet[h-1]\n",
    "\t\ttrueValue = dataSet[h]\n",
    "\t\tdayBeforeHour = dataSet[h-dayLength]\n",
    "\t\tweekBeforeHour = dataSet[h-weekLength]\n",
    "\t\tmonthBeforeHour = dataSet[h-monthLength]\n",
    "\n",
    "\t\tslopeDay = currentHour/dayBeforeHour\n",
    "\t\tslopeWeek = currentHour/weekBeforeHour\n",
    "\t\tslopeMonth = currentHour/monthBeforeHour\n",
    "\n",
    "\t\tforecast.append(hourValue(dayBeforeHour, slopeDay, slopeWeek, slopeMonth, wMeanDay, wMeanWeek, wMeanMonth, meanFactor, trueValue, fitFactor))\n",
    "\n",
    "\treturn forecast\n",
    "\n",
    "\n",
    "def hourValue(lastDaySameHour, slopeDay, slopeWeek, slopeMonth, wMeanDay, wMeanWeek, wMeanMonth, meanFactor, trueValue,  fitFactor):\n",
    "\n",
    "\twMean = ((slopeDay * wMeanDay * lastDaySameHour) + (slopeWeek * wMeanWeek * lastDaySameHour) + (slopeMonth * wMeanMonth * lastDaySameHour))  \n",
    "\tdampDirection = np.sign(wMean - (lastDaySameHour +  slopeDay))\n",
    "\trawPoint = lastDaySameHour + slopeDay\n",
    "\tdampedSlope =  meanFactor * (rawPoint / wMean) * dampDirection\n",
    "\tnewValue = fitFactor * trueValue + (1-fitFactor) * (lastDaySameHour +  (slopeDay + dampedSlope))\n",
    "\n",
    "\treturn newValue\n"
   ]
  },
  {
   "cell_type": "code",
   "execution_count": 28,
   "metadata": {},
   "outputs": [
    {
     "name": "stderr",
     "output_type": "stream",
     "text": [
      "C:\\Users\\sebas\\AppData\\Local\\Temp\\ipykernel_40624\\219725226.py:33: RuntimeWarning: divide by zero encountered in scalar divide\n",
      "  dampedSlope =  meanFactor * (rawPoint / wMean) * dampDirection\n",
      "C:\\Users\\sebas\\AppData\\Local\\Temp\\ipykernel_40624\\219725226.py:19: RuntimeWarning: divide by zero encountered in scalar divide\n",
      "  slopeDay = currentHour/dayBeforeHour\n",
      "C:\\Users\\sebas\\AppData\\Local\\Temp\\ipykernel_40624\\219725226.py:31: RuntimeWarning: invalid value encountered in scalar subtract\n",
      "  dampDirection = np.sign(wMean - (lastDaySameHour +  slopeDay))\n",
      "C:\\Users\\sebas\\AppData\\Local\\Temp\\ipykernel_40624\\219725226.py:33: RuntimeWarning: invalid value encountered in scalar divide\n",
      "  dampedSlope =  meanFactor * (rawPoint / wMean) * dampDirection\n",
      "C:\\Users\\sebas\\AppData\\Local\\Temp\\ipykernel_40624\\219725226.py:20: RuntimeWarning: divide by zero encountered in scalar divide\n",
      "  slopeWeek = currentHour/weekBeforeHour\n",
      "C:\\Users\\sebas\\AppData\\Local\\Temp\\ipykernel_40624\\219725226.py:20: RuntimeWarning: invalid value encountered in scalar divide\n",
      "  slopeWeek = currentHour/weekBeforeHour\n",
      "C:\\Users\\sebas\\AppData\\Local\\Temp\\ipykernel_40624\\219725226.py:21: RuntimeWarning: divide by zero encountered in scalar divide\n",
      "  slopeMonth = currentHour/monthBeforeHour\n"
     ]
    }
   ],
   "source": [
    "line = generateLine(da_prices2023['Day-ahead (EUR/MWh)'], 2, 0.1, 0.05, 1.2, 0.9)"
   ]
  },
  {
   "cell_type": "code",
   "execution_count": 25,
   "metadata": {},
   "outputs": [
    {
     "data": {
      "text/plain": [
       "[<matplotlib.lines.Line2D at 0x2587b559f70>]"
      ]
     },
     "execution_count": 25,
     "metadata": {},
     "output_type": "execute_result"
    },
    {
     "data": {
      "image/png": "[encoded data removed]",
      "text/plain": [
       "<Figure size 640x480 with 1 Axes>"
      ]
     },
     "metadata": {},
     "output_type": "display_data"
    }
   ],
   "source": [
    "plt.plot(line)"
   ]
  },
  {
   "cell_type": "code",
   "execution_count": 11,
   "metadata": {},
   "outputs": [
    {
     "name": "stdout",
     "output_type": "stream",
     "text": [
      "Normal(columns=Index(['Day-ahead (EUR/MWh)'], dtype='object'),\n",
      "       index=Index([ 6,  7,  8,  9, 10, 11, 12, 13, 14, 15, 16, 17, 18, 19, 20, 21, 22, 23,\n",
      "       24, 25, 26, 27, 28, 29],\n",
      "      dtype='int64'),\n",
      "       mu=    Day-ahead (EUR/MWh)\n",
      "6             -5.020000\n",
      "7             11.859180\n",
      "8             33.891900\n",
      "9             26.078792\n",
      "10            -7.741666\n",
      "11           -18.991135\n",
      "12             5.922978\n",
      "13            20.242997\n",
      "14            -0.509642\n",
      "15           -15.806591\n",
      "16             3.207605\n",
      "17            20.038902\n",
      "18             1.840159\n",
      "19           -18.683265\n",
      "20            -2.627620\n",
      "21            26.252386...\n",
      "29            -5.400000,\n",
      "       sigma=    Day-ahead (EUR/MWh)\n",
      "6                   NaN\n",
      "7          2.633631e-15\n",
      "8          0.000000e+00\n",
      "9          5.267261e-15\n",
      "10         3.950446e-15\n",
      "11         5.267261e-15\n",
      "12         3.950446e-15\n",
      "13         5.267261e-15\n",
      "14         3.950446e-15\n",
      "15         5.267261e-15\n",
      "16         3.950446e-15\n",
      "17         5.267261e-15\n",
      "18         3.950446e-15\n",
      "19         5.267261e-15\n",
      "20         3.950446e-15\n",
      "21         5.267261e-15\n",
      "22         5.267261e-15\n",
      "23         3.950446e-15\n",
      "24         3.950446e-15\n",
      "25         4.279650e-15\n",
      "26         4.279650e-15\n",
      "27         3.950446e-15\n",
      "28         3.950446e-15\n",
      "29         3.950446e-15)\n"
     ]
    }
   ],
   "source": [
    "pred = forecaster.predict_proba(fh=range(0,24))\n",
    "print(pred)"
   ]
  }
 ],
 "metadata": {
  "kernelspec": {
   "display_name": ".wvenv",
   "language": "python",
   "name": "python3"
  },
  "language_info": {
   "codemirror_mode": {
    "name": "ipython",
    "version": 3
   },
   "file_extension": ".py",
   "mimetype": "text/x-python",
   "name": "python",
   "nbconvert_exporter": "python",
   "pygments_lexer": "ipython3",
   "version": "3.9.5"
  }
 },
 "nbformat": 4,
 "nbformat_minor": 2
}
